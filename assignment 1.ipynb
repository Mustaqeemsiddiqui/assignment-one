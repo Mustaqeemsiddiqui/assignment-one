{
 "cells": [
  {
   "cell_type": "markdown",
   "id": "448dd3f0-27fb-4d66-b7b7-a269b668725b",
   "metadata": {},
   "source": [
    "#Q1 create one variable containing following type of data\n",
    "1) string \n",
    "2) list \n",
    "3) float\n",
    "4) tuple"
   ]
  },
  {
   "cell_type": "code",
   "execution_count": 13,
   "id": "c781beda-f797-4be5-96ff-439760f25689",
   "metadata": {},
   "outputs": [],
   "source": [
    "a=[1,\"mustaqeem\",2+3j,True,23.445,6.6]"
   ]
  },
  {
   "cell_type": "code",
   "execution_count": 2,
   "id": "678ef7c5-87d3-4deb-8c58-9781bf2b8e3e",
   "metadata": {},
   "outputs": [
    {
     "data": {
      "text/plain": [
       "list"
      ]
     },
     "execution_count": 2,
     "metadata": {},
     "output_type": "execute_result"
    }
   ],
   "source": [
    "type(a)"
   ]
  },
  {
   "cell_type": "code",
   "execution_count": 5,
   "id": "8eaa6efa-50b5-4010-bd4a-1522cd286db3",
   "metadata": {},
   "outputs": [
    {
     "data": {
      "text/plain": [
       "1"
      ]
     },
     "execution_count": 5,
     "metadata": {},
     "output_type": "execute_result"
    }
   ],
   "source": [
    "a[0]"
   ]
  },
  {
   "cell_type": "code",
   "execution_count": 6,
   "id": "8897d724-9374-4902-a945-ca0fc56b9422",
   "metadata": {},
   "outputs": [
    {
     "data": {
      "text/plain": [
       "'mustaqeem'"
      ]
     },
     "execution_count": 6,
     "metadata": {},
     "output_type": "execute_result"
    }
   ],
   "source": [
    "a[1]"
   ]
  },
  {
   "cell_type": "code",
   "execution_count": 7,
   "id": "b7eed79e-08ce-4e59-a59b-9cc434e88e47",
   "metadata": {},
   "outputs": [
    {
     "data": {
      "text/plain": [
       "str"
      ]
     },
     "execution_count": 7,
     "metadata": {},
     "output_type": "execute_result"
    }
   ],
   "source": [
    "type(a[1])"
   ]
  },
  {
   "cell_type": "code",
   "execution_count": 8,
   "id": "fe837735-55de-4c41-87c7-c796288cfb8b",
   "metadata": {},
   "outputs": [
    {
     "data": {
      "text/plain": [
       "23.445"
      ]
     },
     "execution_count": 8,
     "metadata": {},
     "output_type": "execute_result"
    }
   ],
   "source": [
    "a[4]"
   ]
  },
  {
   "cell_type": "code",
   "execution_count": 9,
   "id": "bd390d76-03f4-4197-ad4e-2892446815a2",
   "metadata": {},
   "outputs": [
    {
     "data": {
      "text/plain": [
       "float"
      ]
     },
     "execution_count": 9,
     "metadata": {},
     "output_type": "execute_result"
    }
   ],
   "source": [
    "type(a[4])"
   ]
  },
  {
   "cell_type": "code",
   "execution_count": 10,
   "id": "fe3df249-2ecd-4528-8ee6-7d86f26ff207",
   "metadata": {},
   "outputs": [],
   "source": [
    "h=3.4,6.8,8"
   ]
  },
  {
   "cell_type": "code",
   "execution_count": 11,
   "id": "76ee9c2b-01eb-4c59-b4ff-f956574ab9d0",
   "metadata": {},
   "outputs": [
    {
     "data": {
      "text/plain": [
       "tuple"
      ]
     },
     "execution_count": 11,
     "metadata": {},
     "output_type": "execute_result"
    }
   ],
   "source": [
    "type(h)"
   ]
  },
  {
   "cell_type": "code",
   "execution_count": null,
   "id": "e8a930cc-a0a3-4f85-9b2c-90595bfb067a",
   "metadata": {},
   "outputs": [],
   "source": [
    "#Q2 given are some following variables containing data\n",
    "1)var1=b=''\n",
    "2) var2=c='[DS,ML,Python]'\n",
    "3)var3=d=['DS','ML','Python']\n",
    "4)var4=e=1"
   ]
  },
  {
   "cell_type": "code",
   "execution_count": 12,
   "id": "10f27f24-18aa-4bbe-94f9-c34d0c5394a3",
   "metadata": {},
   "outputs": [],
   "source": [
    "b='' "
   ]
  },
  {
   "cell_type": "code",
   "execution_count": 13,
   "id": "ab3772f1-a02a-40b4-89b5-b6874e477191",
   "metadata": {},
   "outputs": [
    {
     "data": {
      "text/plain": [
       "str"
      ]
     },
     "execution_count": 13,
     "metadata": {},
     "output_type": "execute_result"
    }
   ],
   "source": [
    "type(b)"
   ]
  },
  {
   "cell_type": "code",
   "execution_count": 14,
   "id": "30a97812-bc76-4cb8-a0e2-880c5db82e28",
   "metadata": {},
   "outputs": [],
   "source": [
    "c='[DS,ML,Python]'"
   ]
  },
  {
   "cell_type": "code",
   "execution_count": 15,
   "id": "10ffdaa5-5100-4b38-a29c-454eb1d051a0",
   "metadata": {},
   "outputs": [
    {
     "data": {
      "text/plain": [
       "str"
      ]
     },
     "execution_count": 15,
     "metadata": {},
     "output_type": "execute_result"
    }
   ],
   "source": [
    "type(c)"
   ]
  },
  {
   "cell_type": "code",
   "execution_count": 16,
   "id": "6c52378e-ce6d-4087-a226-9c2bb793a39e",
   "metadata": {},
   "outputs": [],
   "source": [
    "d=['DS','ML','Python']"
   ]
  },
  {
   "cell_type": "code",
   "execution_count": 17,
   "id": "29a2577a-aa2b-4e3a-bf12-8dd1cf077b75",
   "metadata": {},
   "outputs": [
    {
     "data": {
      "text/plain": [
       "list"
      ]
     },
     "execution_count": 17,
     "metadata": {},
     "output_type": "execute_result"
    }
   ],
   "source": [
    "type(d)"
   ]
  },
  {
   "cell_type": "code",
   "execution_count": 18,
   "id": "0ff57933-3c42-4f57-b8ff-1df687beede3",
   "metadata": {},
   "outputs": [],
   "source": [
    "e=1"
   ]
  },
  {
   "cell_type": "code",
   "execution_count": 19,
   "id": "2bf73d4d-b4e5-4743-b9e4-e0f281843d79",
   "metadata": {},
   "outputs": [
    {
     "data": {
      "text/plain": [
       "int"
      ]
     },
     "execution_count": 19,
     "metadata": {},
     "output_type": "execute_result"
    }
   ],
   "source": [
    "type(e)"
   ]
  },
  {
   "cell_type": "code",
   "execution_count": null,
   "id": "1273109c-1aa3-4476-8e5d-04036fd7ee04",
   "metadata": {},
   "outputs": [],
   "source": [
    "# what will be the data type of the given variable"
   ]
  },
  {
   "cell_type": "code",
   "execution_count": 16,
   "id": "a6741400-d486-40e0-8c37-4e915958e80b",
   "metadata": {},
   "outputs": [
    {
     "name": "stdout",
     "output_type": "stream",
     "text": [
      "<class 'int'>\n",
      "<class 'str'>\n",
      "<class 'complex'>\n",
      "<class 'bool'>\n",
      "<class 'float'>\n",
      "<class 'float'>\n"
     ]
    }
   ],
   "source": [
    "for n in a : \n",
    "    print(type(n))"
   ]
  },
  {
   "cell_type": "code",
   "execution_count": 17,
   "id": "f3cc8194-3674-4d59-ba1f-2f9f89e30835",
   "metadata": {},
   "outputs": [],
   "source": [
    "# Q3)explain the use of following operators using an example:\n",
    "1)/\n",
    "2)%\n",
    "3)//\n",
    "4)**"
   ]
  },
  {
   "cell_type": "code",
   "execution_count": 19,
   "id": "b94f420b-8dac-4124-872d-b75d4f5f2f82",
   "metadata": {},
   "outputs": [
    {
     "data": {
      "text/plain": [
       "0.4"
      ]
     },
     "execution_count": 19,
     "metadata": {},
     "output_type": "execute_result"
    }
   ],
   "source": [
    "2/5"
   ]
  },
  {
   "cell_type": "code",
   "execution_count": null,
   "id": "2e8dc360-f113-4984-94fb-989e0ff14d14",
   "metadata": {},
   "outputs": [],
   "source": [
    "#1) EXPLANATION\n",
    "it means 5 divided by 2 and 5 divides 2 completely"
   ]
  },
  {
   "cell_type": "code",
   "execution_count": 21,
   "id": "d624c1ee-e016-43cf-8b0c-e116520c9363",
   "metadata": {},
   "outputs": [
    {
     "data": {
      "text/plain": [
       "4"
      ]
     },
     "execution_count": 21,
     "metadata": {},
     "output_type": "execute_result"
    }
   ],
   "source": [
    "4%6"
   ]
  },
  {
   "cell_type": "code",
   "execution_count": null,
   "id": "259f4a13-cbae-4f53-880e-511f2886baed",
   "metadata": {},
   "outputs": [],
   "source": [
    "#2)EXPLANATION\n",
    "it means 4 divided by 6 and answer is remainder"
   ]
  },
  {
   "cell_type": "code",
   "execution_count": 22,
   "id": "7376d9ba-3bd5-4146-a17f-0760b14c0594",
   "metadata": {},
   "outputs": [
    {
     "data": {
      "text/plain": [
       "2"
      ]
     },
     "execution_count": 22,
     "metadata": {},
     "output_type": "execute_result"
    }
   ],
   "source": [
    "6%4"
   ]
  },
  {
   "cell_type": "code",
   "execution_count": null,
   "id": "a28f9924-3fc7-4183-a024-9bd0de0d839a",
   "metadata": {},
   "outputs": [],
   "source": [
    "# it means 6 divided by 4 and answer is remainder "
   ]
  },
  {
   "cell_type": "code",
   "execution_count": 23,
   "id": "49c0dca0-97a6-4dc9-8c3d-4260dc78d28a",
   "metadata": {},
   "outputs": [
    {
     "data": {
      "text/plain": [
       "32"
      ]
     },
     "execution_count": 23,
     "metadata": {},
     "output_type": "execute_result"
    }
   ],
   "source": [
    "2**5"
   ]
  },
  {
   "cell_type": "code",
   "execution_count": null,
   "id": "7bec61be-91e6-4346-a0cf-3b01bf334d04",
   "metadata": {},
   "outputs": [],
   "source": [
    "#3) EXPLANATION\n",
    "it means 2 is multiple of itself \n",
    "in my example 2**5 means 2*2*2*2*2 which is equal to 32"
   ]
  },
  {
   "cell_type": "code",
   "execution_count": 24,
   "id": "c05c6ee0-3d63-49b3-8ee3-43f3bf355dd5",
   "metadata": {},
   "outputs": [
    {
     "data": {
      "text/plain": [
       "1"
      ]
     },
     "execution_count": 24,
     "metadata": {},
     "output_type": "execute_result"
    }
   ],
   "source": [
    "4//4"
   ]
  },
  {
   "cell_type": "code",
   "execution_count": null,
   "id": "fe3b3884-fdc4-4efb-a004-ae3d8192c09f",
   "metadata": {},
   "outputs": [],
   "source": [
    "#4) EXPLANATION \n",
    "IF 4 divides 4 then the answer is one \n",
    "if 6 divides by 5 then we cannot write it without decimal then first we will take 0\n",
    "if 4 divides 8 then answer is 2"
   ]
  },
  {
   "cell_type": "code",
   "execution_count": 25,
   "id": "cb5982db-60bb-4449-a08a-ea7e35d83e55",
   "metadata": {},
   "outputs": [
    {
     "data": {
      "text/plain": [
       "0"
      ]
     },
     "execution_count": 25,
     "metadata": {},
     "output_type": "execute_result"
    }
   ],
   "source": [
    "5//6"
   ]
  },
  {
   "cell_type": "code",
   "execution_count": 26,
   "id": "71684a98-6875-4727-bac7-3deacb0e9a6b",
   "metadata": {},
   "outputs": [
    {
     "data": {
      "text/plain": [
       "2"
      ]
     },
     "execution_count": 26,
     "metadata": {},
     "output_type": "execute_result"
    }
   ],
   "source": [
    "8//4"
   ]
  },
  {
   "cell_type": "code",
   "execution_count": 27,
   "id": "6a231962-78ac-41fb-8f6c-cafe70dfd76e",
   "metadata": {},
   "outputs": [
    {
     "data": {
      "text/plain": [
       "4"
      ]
     },
     "execution_count": 27,
     "metadata": {},
     "output_type": "execute_result"
    }
   ],
   "source": [
    "12//3"
   ]
  },
  {
   "cell_type": "code",
   "execution_count": null,
   "id": "d48c168d-f734-4e04-b1be-872fb4dac081",
   "metadata": {},
   "outputs": [],
   "source": [
    "#Q4) create a list of length 10 of your choice containing multiple types of data .Using for loop print the element and its data type."
   ]
  },
  {
   "cell_type": "code",
   "execution_count": 28,
   "id": "ba9625a7-7bd9-4cda-ac58-a67569576887",
   "metadata": {},
   "outputs": [],
   "source": [
    "l=[1,2,3,56.78,87.8,True,False,2+7j,\"mustaqeem\",'siddiqui']"
   ]
  },
  {
   "cell_type": "code",
   "execution_count": 29,
   "id": "65f2b6be-a46f-4eeb-b307-c30b245fa717",
   "metadata": {},
   "outputs": [
    {
     "data": {
      "text/plain": [
       "list"
      ]
     },
     "execution_count": 29,
     "metadata": {},
     "output_type": "execute_result"
    }
   ],
   "source": [
    "type(l)"
   ]
  },
  {
   "cell_type": "code",
   "execution_count": 22,
   "id": "f6762ecc-e484-4198-826e-d2b76558c1fe",
   "metadata": {},
   "outputs": [],
   "source": [
    "l=[1,2,3,56.78,87.8,True,False,2+7j,\"mustqeem\",'siddiqui']"
   ]
  },
  {
   "cell_type": "code",
   "execution_count": 8,
   "id": "777bb7ac-65ae-4f5a-9f0d-a9e7d074cf11",
   "metadata": {},
   "outputs": [
    {
     "data": {
      "text/plain": [
       "[1, 2, 3, 56.78, 87.8, True, False, (2+7j), 'mustqeem', 'siddiqui']"
      ]
     },
     "execution_count": 8,
     "metadata": {},
     "output_type": "execute_result"
    }
   ],
   "source": [
    "l"
   ]
  },
  {
   "cell_type": "code",
   "execution_count": null,
   "id": "940bbfb1-4a5d-46ef-a548-bfc0b8e7650f",
   "metadata": {},
   "outputs": [],
   "source": [
    "# first method"
   ]
  },
  {
   "cell_type": "code",
   "execution_count": 9,
   "id": "fbdd627c-f273-49a0-9c36-653b0f6d9146",
   "metadata": {},
   "outputs": [
    {
     "name": "stdout",
     "output_type": "stream",
     "text": [
      "<class 'int'>\n",
      "<class 'int'>\n",
      "<class 'int'>\n",
      "<class 'float'>\n",
      "<class 'float'>\n",
      "<class 'bool'>\n",
      "<class 'bool'>\n",
      "<class 'complex'>\n",
      "<class 'str'>\n",
      "<class 'str'>\n"
     ]
    }
   ],
   "source": [
    "for j in l:\n",
    "    print(type(j))"
   ]
  },
  {
   "cell_type": "code",
   "execution_count": 10,
   "id": "332c8b55-246a-49fc-8c41-c0c9bff38cca",
   "metadata": {},
   "outputs": [
    {
     "name": "stdout",
     "output_type": "stream",
     "text": [
      "1\n",
      "2\n",
      "3\n",
      "56.78\n",
      "87.8\n",
      "True\n",
      "False\n",
      "(2+7j)\n",
      "mustqeem\n",
      "siddiqui\n"
     ]
    }
   ],
   "source": [
    "for j in l:\n",
    "    print(j)"
   ]
  },
  {
   "cell_type": "code",
   "execution_count": null,
   "id": "1ce19cc7-2e9c-477d-8e18-3080b02750ce",
   "metadata": {},
   "outputs": [],
   "source": [
    "# second method"
   ]
  },
  {
   "cell_type": "code",
   "execution_count": 23,
   "id": "936d8890-3954-4572-96d6-24a4403bc7e2",
   "metadata": {},
   "outputs": [
    {
     "name": "stdout",
     "output_type": "stream",
     "text": [
      "<class 'int'>\n",
      "1\n",
      "<class 'int'>\n",
      "2\n",
      "<class 'int'>\n",
      "3\n",
      "<class 'float'>\n",
      "56.78\n",
      "<class 'float'>\n",
      "87.8\n",
      "<class 'bool'>\n",
      "True\n",
      "<class 'bool'>\n",
      "False\n",
      "<class 'complex'>\n",
      "(2+7j)\n",
      "<class 'str'>\n",
      "mustqeem\n",
      "<class 'str'>\n",
      "siddiqui\n"
     ]
    }
   ],
   "source": [
    "for j in l :\n",
    "    print(type(j))\n",
    "    print (j)"
   ]
  },
  {
   "cell_type": "code",
   "execution_count": 24,
   "id": "c05a7144-e8c5-4c5f-bc6e-acc759e9320c",
   "metadata": {},
   "outputs": [],
   "source": [
    "#Q5) using a while loop . verify if the number A is purely divisible by B and if so then how many times it can be divusible."
   ]
  },
  {
   "cell_type": "code",
   "execution_count": 25,
   "id": "f2f113e3-ad53-4249-a3d8-320cb9b75b71",
   "metadata": {},
   "outputs": [
    {
     "name": "stdin",
     "output_type": "stream",
     "text": [
      "enter A: 79 \n",
      "  enter B : 3\n"
     ]
    },
    {
     "name": "stdout",
     "output_type": "stream",
     "text": [
      "79 is not divisible by 3.\n"
     ]
    }
   ],
   "source": [
    "A= int(input(\"enter A:\"))\n",
    "B= int(input(\"  enter B :\"))  \n",
    "count=0\n",
    "while A%B==0:\n",
    "    count+=1\n",
    "    A//B\n",
    "    if count>0:\n",
    "        print (f\"{A} is divisible by {B} exactly {count}times.\")\n",
    "        \n",
    "else:\n",
    "    print ( f\"{A} is not divisible by {B}.\")"
   ]
  },
  {
   "cell_type": "code",
   "execution_count": 1,
   "id": "34c8caa5-f1d7-4478-baeb-f9d384f11b77",
   "metadata": {},
   "outputs": [],
   "source": [
    "#Q6) Create a list containing 25 int type data .using for loop and if-else condition print if the element is divisible by 3 or not."
   ]
  },
  {
   "cell_type": "code",
   "execution_count": 2,
   "id": "ffe221fc-d2d2-413e-abaf-fd20fdcf9307",
   "metadata": {},
   "outputs": [],
   "source": [
    "M=[1,2,3,4,5,6,7,8,9,10,11,12,13,14,15,16,17,18,19,20,21,22,23,24,25]"
   ]
  },
  {
   "cell_type": "code",
   "execution_count": 3,
   "id": "3252db6e-7776-40d4-a5a5-3f60b7d94057",
   "metadata": {},
   "outputs": [
    {
     "data": {
      "text/plain": [
       "list"
      ]
     },
     "execution_count": 3,
     "metadata": {},
     "output_type": "execute_result"
    }
   ],
   "source": [
    "type(M)"
   ]
  },
  {
   "cell_type": "code",
   "execution_count": 14,
   "id": "3139ce71-5f5c-427f-80d6-29751af48271",
   "metadata": {},
   "outputs": [
    {
     "name": "stdout",
     "output_type": "stream",
     "text": [
      "1 is divisible by 3\n",
      "2 is divisible by 3\n",
      "3 is divisible by 3\n",
      "4 is divisible by 3\n",
      "5 is divisible by 3\n",
      "6 is divisible by 3\n",
      "7 is divisible by 3\n",
      "8 is divisible by 3\n",
      "9 is divisible by 3\n",
      "10 is divisible by 3\n",
      "11 is divisible by 3\n",
      "12 is divisible by 3\n",
      "13 is divisible by 3\n",
      "14 is divisible by 3\n",
      "15 is divisible by 3\n",
      "16 is divisible by 3\n",
      "17 is divisible by 3\n",
      "18 is divisible by 3\n",
      "19 is divisible by 3\n",
      "20 is divisible by 3\n",
      "21 is divisible by 3\n",
      "22 is divisible by 3\n",
      "23 is divisible by 3\n",
      "24 is divisible by 3\n",
      "25 is divisible by 3\n",
      "25 is not divisible by 3\n"
     ]
    }
   ],
   "source": [
    "for i in M : \n",
    "    i+=0\n",
    "    if i/3:\n",
    "        print(f\"{i} is divisible by {3}\")\n",
    "else:\n",
    "    print(f\"{i} is not divisible by {3}\")"
   ]
  },
  {
   "cell_type": "code",
   "execution_count": null,
   "id": "750edb8a-9564-47cb-8807-60c7d50fad8d",
   "metadata": {},
   "outputs": [],
   "source": [
    "#7) what do you understand about mutable and immutable data types? give example of both showing this property"
   ]
  },
  {
   "cell_type": "code",
   "execution_count": null,
   "id": "799676ec-c141-4f0d-a4fc-b60f572f18e6",
   "metadata": {},
   "outputs": [],
   "source": [
    "# mutable:\n",
    "example of mutable is list \n",
    "you can change the sequence of elements in list \n",
    "# immutable:\n",
    "example of immutable is string\n",
    "you cannot change the sequence of elements of string if you do then the elements will be change where as in list the elements does not chsnges \n",
    "    "
   ]
  },
  {
   "cell_type": "code",
   "execution_count": 5,
   "id": "87e33c38-9d29-43f8-b61f-304d3875277d",
   "metadata": {},
   "outputs": [],
   "source": [
    "N=[1,6,\"alakh sir\"]"
   ]
  },
  {
   "cell_type": "code",
   "execution_count": 6,
   "id": "fdbc1041-9ec3-4fdc-b09c-4d54c20f8a37",
   "metadata": {},
   "outputs": [
    {
     "data": {
      "text/plain": [
       "list"
      ]
     },
     "execution_count": 6,
     "metadata": {},
     "output_type": "execute_result"
    }
   ],
   "source": [
    "type(N)"
   ]
  },
  {
   "cell_type": "code",
   "execution_count": 7,
   "id": "56ca7a21-9c61-434b-9b28-249875edda8f",
   "metadata": {},
   "outputs": [
    {
     "data": {
      "text/plain": [
       "str"
      ]
     },
     "execution_count": 7,
     "metadata": {},
     "output_type": "execute_result"
    }
   ],
   "source": [
    "type(N[2])"
   ]
  },
  {
   "cell_type": "code",
   "execution_count": null,
   "id": "9394801f-ed3b-408d-ad6d-6478c35f8693",
   "metadata": {},
   "outputs": [],
   "source": []
  }
 ],
 "metadata": {
  "kernelspec": {
   "display_name": "Python 3 (ipykernel)",
   "language": "python",
   "name": "python3"
  },
  "language_info": {
   "codemirror_mode": {
    "name": "ipython",
    "version": 3
   },
   "file_extension": ".py",
   "mimetype": "text/x-python",
   "name": "python",
   "nbconvert_exporter": "python",
   "pygments_lexer": "ipython3",
   "version": "3.10.8"
  }
 },
 "nbformat": 4,
 "nbformat_minor": 5
}
